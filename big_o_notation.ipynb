{
 "cells": [
  {
   "cell_type": "markdown",
   "id": "61828e64",
   "metadata": {},
   "source": [
    "### Big O Notation"
   ]
  },
  {
   "cell_type": "code",
   "execution_count": 1,
   "id": "0b5c0e54",
   "metadata": {},
   "outputs": [],
   "source": [
    "#import pyplot module as alias plt\n",
    "import matplotlib.pyplot as plt  \n",
    "\n",
    "#import other libraries \n",
    "import numpy as np\n",
    "import math\n",
    "from random import randint\n",
    "import random\n",
    "import pandas as pd"
   ]
  },
  {
   "cell_type": "code",
   "execution_count": null,
   "id": "8d67c64f",
   "metadata": {},
   "outputs": [],
   "source": [
    "plt.title('Big O Nation')\n",
    "plt.xlabel('Elements')\n",
    "plt.ylabel('Operations')"
   ]
  },
  {
   "cell_type": "code",
   "execution_count": 11,
   "id": "4f9f9a7f",
   "metadata": {},
   "outputs": [
    {
     "ename": "TypeError",
     "evalue": "must be real number, not generator",
     "output_type": "error",
     "traceback": [
      "\u001b[0;31m---------------------------------------------------------------------------\u001b[0m",
      "\u001b[0;31mTypeError\u001b[0m                                 Traceback (most recent call last)",
      "Input \u001b[0;32mIn [11]\u001b[0m, in \u001b[0;36m<cell line: 4>\u001b[0;34m()\u001b[0m\n\u001b[1;32m      1\u001b[0m n \u001b[38;5;241m=\u001b[39m \u001b[38;5;28mrange\u001b[39m(\u001b[38;5;241m0\u001b[39m,\u001b[38;5;241m6\u001b[39m)\n\u001b[1;32m      3\u001b[0m y1 \u001b[38;5;241m=\u001b[39m \u001b[38;5;241m1\u001b[39m\n\u001b[0;32m----> 4\u001b[0m y2 \u001b[38;5;241m=\u001b[39m \u001b[43mmath\u001b[49m\u001b[38;5;241;43m.\u001b[39;49m\u001b[43mlog\u001b[49m\u001b[43m(\u001b[49m\u001b[43mn\u001b[49m\u001b[43m \u001b[49m\u001b[38;5;28;43;01mfor\u001b[39;49;00m\u001b[43m \u001b[49m\u001b[43mn\u001b[49m\u001b[43m \u001b[49m\u001b[38;5;129;43;01min\u001b[39;49;00m\u001b[43m \u001b[49m\u001b[43mn\u001b[49m\u001b[43m)\u001b[49m\n\u001b[1;32m      5\u001b[0m y3 \u001b[38;5;241m=\u001b[39m n\n\u001b[1;32m      6\u001b[0m y4 \u001b[38;5;241m=\u001b[39m n\u001b[38;5;241m*\u001b[39m(n2)\n",
      "\u001b[0;31mTypeError\u001b[0m: must be real number, not generator"
     ]
    }
   ],
   "source": [
    "x = range(1,20)\n",
    "\n",
    "y1 = [1 for n in x]\n",
    "y2 = [math.log(n) for n in x)\n",
    "y3 = x\n",
    "y4 = n*(n2)\n",
    "y5 = n**2\n",
    "y6 = 2**n\n",
    "y7 = math.factorial(n)\n",
    "y8 = n**n\n",
    "\n",
    "plt.plot(n,y1)\n",
    "plt.plot(n,y2)"
   ]
  },
  {
   "cell_type": "code",
   "execution_count": null,
   "id": "02f17fae",
   "metadata": {},
   "outputs": [],
   "source": []
  },
  {
   "cell_type": "code",
   "execution_count": null,
   "id": "07c3863b",
   "metadata": {},
   "outputs": [],
   "source": []
  },
  {
   "cell_type": "code",
   "execution_count": null,
   "id": "59ddde6d",
   "metadata": {},
   "outputs": [],
   "source": []
  },
  {
   "cell_type": "code",
   "execution_count": null,
   "id": "cfc2bb98",
   "metadata": {},
   "outputs": [],
   "source": []
  },
  {
   "cell_type": "code",
   "execution_count": null,
   "id": "639177a7",
   "metadata": {},
   "outputs": [],
   "source": []
  },
  {
   "cell_type": "code",
   "execution_count": null,
   "id": "885bb3b7",
   "metadata": {},
   "outputs": [],
   "source": []
  }
 ],
 "metadata": {
  "kernelspec": {
   "display_name": "Python 3 (ipykernel)",
   "language": "python",
   "name": "python3"
  },
  "language_info": {
   "codemirror_mode": {
    "name": "ipython",
    "version": 3
   },
   "file_extension": ".py",
   "mimetype": "text/x-python",
   "name": "python",
   "nbconvert_exporter": "python",
   "pygments_lexer": "ipython3",
   "version": "3.9.12"
  }
 },
 "nbformat": 4,
 "nbformat_minor": 5
}
